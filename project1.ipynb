{
 "cells": [
  {
   "cell_type": "markdown",
   "metadata": {},
   "source": [
    "# Project 1"
   ]
  },
  {
   "cell_type": "code",
   "execution_count": null,
   "metadata": {},
   "outputs": [],
   "source": [
    "import pandas as pd\n",
    "import seaborn as sns\n",
    "import matplotlib.pyplot as plt\n",
    "import numpy as np"
   ]
  },
  {
   "cell_type": "code",
   "execution_count": null,
   "metadata": {},
   "outputs": [],
   "source": [
    "players_info = pd.read_csv(\"People.csv\")\n",
    "players_info"
   ]
  },
  {
   "cell_type": "code",
   "execution_count": null,
   "metadata": {},
   "outputs": [],
   "source": [
    "salary_data = pd.read_csv(\"Salaries.csv\")\n",
    "salary_data"
   ]
  },
  {
   "cell_type": "code",
   "execution_count": null,
   "metadata": {},
   "outputs": [],
   "source": [
    "player_awards = pd.read_csv(\"AwardsPlayers.csv\")\n",
    "player_awards"
   ]
  },
  {
   "cell_type": "code",
   "execution_count": null,
   "metadata": {},
   "outputs": [],
   "source": [
    "batting = pd.read_csv(\"Batting.csv\")\n",
    "batting.columns"
   ]
  },
  {
   "cell_type": "code",
   "execution_count": null,
   "metadata": {},
   "outputs": [],
   "source": [
    "player_awards = player_awards[[\"playerID\", \"awardID\", \"yearID\", \"lgID\"]]\n",
    "players_info = players_info[[\"playerID\", \"weight\", \"height\", \"bats\", \"birthCountry\", \"nameFirst\", \"nameLast\"]]\n",
    "batting = batting[[\"playerID\", \"yearID\", \"lgID\", \"teamID\", \"H\", \"AB\"]]\n",
    "players_info = pd.merge(players_info, salary_data, on=\"playerID\")\n",
    "players_info = pd.merge(players_info, batting, on=[\"playerID\", \"lgID\", \"teamID\", \"yearID\"])\n",
    "players_info"
   ]
  },
  {
   "cell_type": "markdown",
   "metadata": {},
   "source": [
    "## The most awarded Puerto Rican player"
   ]
  },
  {
   "cell_type": "code",
   "execution_count": null,
   "metadata": {},
   "outputs": [],
   "source": [
    "# Narrow down to Puerto Rican players who have earned awards\n",
    "awards = pd.merge(players_info, player_awards, on=[\"playerID\", \"lgID\", \"yearID\"], how='outer')\n",
    "PR_players = awards[awards.birthCountry == \"P.R.\"]\n",
    "PR_players = PR_players.dropna(subset=\"awardID\")\n",
    "# Run a count of awards won by each player and order by number of awards\n",
    "PR_players_based_on_awards = PR_players.groupby([\"playerID\"])[\"awardID\"].count().reset_index().sort_values(by=\"awardID\", ascending=False)"
   ]
  },
  {
   "cell_type": "code",
   "execution_count": null,
   "metadata": {},
   "outputs": [],
   "source": [
    "# Pick out the player with the most total awards and get data for awards won each year of their career\n",
    "player_with_highest_number_of_awards = PR_players_based_on_awards['playerID'].iloc[0]\n",
    "awards_per_year = PR_players[PR_players.playerID == player_with_highest_number_of_awards]\n",
    "award_info = awards_per_year.groupby([\"yearID\"])[\"awardID\"].count().reset_index()\n",
    "# Find salary information for each year\n",
    "salary_info = PR_players[PR_players.playerID == player_with_highest_number_of_awards].groupby([\"yearID\"])[\"salary\"].first().reset_index()\n",
    "\n",
    "# Plot findings in two separate ways\n",
    "fig, axs = plt.subplots(2, 2, figsize=(15, 10))\n",
    "\n",
    "axs[0, 0].plot(award_info[\"yearID\"], award_info[\"awardID\"])\n",
    "axs[0, 0].set_title('Award Number')\n",
    "axs[0, 0].set_xticks(np.arange(award_info[\"yearID\"].min(), award_info[\"yearID\"].max() + 1, 1))\n",
    "axs[0, 0].set_yticks(np.arange(award_info[\"awardID\"].min(), award_info[\"awardID\"].max() + 1, 1))\n",
    "axs[0, 0].tick_params(axis='x', rotation=45)\n",
    "axs[0, 0].set_xlabel('Year')\n",
    "axs[0, 0].set_ylabel('Number of awards')\n",
    "\n",
    "\n",
    "axs[0, 1].plot(salary_info[\"yearID\"], salary_info[\"salary\"])\n",
    "axs[0, 1].set_title('Salary')\n",
    "axs[0, 1].set_xticks(np.arange(salary_info[\"yearID\"].min(), salary_info[\"yearID\"].max() + 1, 1))\n",
    "axs[0, 1].tick_params(axis='x', rotation=45)\n",
    "axs[0, 1].set_xlabel('Year')\n",
    "axs[0, 1].set_ylabel('Salary')\n",
    "\n",
    "\n",
    "\n",
    "axs[1, 0].bar(award_info[\"yearID\"], award_info[\"awardID\"], color='green')  \n",
    "axs[1, 0].set_title('Award Number')\n",
    "axs[1, 0].set_xticks(np.arange(award_info[\"yearID\"].min(), award_info[\"yearID\"].max() + 1, 1))\n",
    "axs[1, 0].tick_params(axis='x', rotation=45)\n",
    "axs[1, 0].set_xlabel('Year')\n",
    "axs[1, 0].set_ylabel('Number of awards')\n",
    "\n",
    "\n",
    "\n",
    "axs[1, 1].bar(salary_info[\"yearID\"], salary_info[\"salary\"], color='blue') \n",
    "axs[1, 1].set_title('Salary')\n",
    "axs[1, 1].set_xticks(np.arange(salary_info[\"yearID\"].min(), salary_info[\"yearID\"].max() + 1, 1))\n",
    "axs[1, 1].tick_params(axis='x', rotation=45)\n",
    "axs[1, 1].set_xlabel('Year')\n",
    "axs[1, 1].set_ylabel('Salary')\n",
    "\n",
    "\n",
    "plt.tight_layout()\n",
    "plt.show()"
   ]
  },
  {
   "cell_type": "code",
   "execution_count": null,
   "metadata": {},
   "outputs": [],
   "source": [
    "\n",
    "# Gather info and plot types of awards won each year\n",
    "awards_of_highest = player_awards[player_awards['playerID'] == player_with_highest_number_of_awards]\n",
    "sns.scatterplot(x=\"yearID\", y=\"awardID\", data=awards_of_highest)\n",
    "plt.ylabel(\"Awards type\")\n",
    "plt.xlabel(\"Year\")\n",
    "\n",
    "plt.show()"
   ]
  },
  {
   "cell_type": "markdown",
   "metadata": {},
   "source": [
    "## Impact of BMI on Batting Average"
   ]
  },
  {
   "cell_type": "code",
   "execution_count": null,
   "metadata": {},
   "outputs": [],
   "source": [
    "# Gather necessary player info and drop players that may be missing necessary info\n",
    "BMI_impact_on_run = players_info[[\"playerID\", \"teamID\", \"weight\", \"height\", \"H\", \"AB\"]]\n",
    "BMI_impact_on_run = BMI_impact_on_run.dropna(subset=\"H\")\n",
    "BMI_impact_on_run = BMI_impact_on_run.dropna(subset=\"AB\")\n",
    "BMI_impact_on_run = BMI_impact_on_run.dropna(subset=\"height\")\n",
    "BMI_impact_on_run = BMI_impact_on_run.dropna(subset=\"playerID\")\n",
    "BMI_impact_on_run = BMI_impact_on_run.dropna(subset=\"weight\")\n",
    "\n",
    "# Calculate BMIs, then for each, sum the hits and at-bats of players with that BMI and compute a batting average from these sums\n",
    "BMI_impact_on_run['BMI'] = (BMI_impact_on_run.weight * 703) / (BMI_impact_on_run.height)**2\n",
    "BMI_impact_on_run = BMI_impact_on_run.groupby('BMI').agg({\"H\": \"sum\", \"AB\": \"sum\"}).reset_index()\n",
    "BMI_impact_on_run = BMI_impact_on_run[BMI_impact_on_run['AB'] > 20]\n",
    "BMI_impact_on_run['battingAvg'] = (BMI_impact_on_run.H / BMI_impact_on_run.AB)\n",
    "BMI_impact_on_run = BMI_impact_on_run.dropna(subset=\"battingAvg\")\n",
    "\n",
    "# Plot a linear regression to see if there is a relationship between the two\n",
    "fig, axes = plt.subplots(nrows=2, ncols=1, figsize=(6, 10))\n",
    "\n",
    "\n",
    "plt.subplot(2, 1, 1)\n",
    "sns.regplot(data=BMI_impact_on_run, x=\"BMI\", y=\"battingAvg\", scatter_kws={'s': 10})\n",
    "\n",
    "\n",
    "# Plot a second one with players within the \"normal range\" of BMI\n",
    "BMI_impact_on_run = BMI_impact_on_run[BMI_impact_on_run['BMI'] >= 18.5]\n",
    "BMI_impact_on_run = BMI_impact_on_run[BMI_impact_on_run['BMI'] <= 24.9]\n",
    "\n",
    "plt.subplot(2, 1, 2)\n",
    "sns.regplot(data=BMI_impact_on_run, x=\"BMI\", y=\"battingAvg\", scatter_kws={'s': 10})\n",
    "\n",
    "plt.ylabel(\"Batting average\")\n",
    "\n",
    "plt.tight_layout()\n",
    "\n",
    "plt.show()"
   ]
  },
  {
   "cell_type": "markdown",
   "metadata": {},
   "source": [
    "## Expected pay for each batting style in both leagues"
   ]
  },
  {
   "cell_type": "code",
   "execution_count": null,
   "metadata": {},
   "outputs": [],
   "source": [
    "# Split the players into each league\n",
    "national_league = players_info[(players_info.lgID == \"NL\") & (players_info.yearID > 2012)]\n",
    "american_league = players_info[(players_info.lgID == \"AL\") & (players_info.yearID > 2012)]"
   ]
  },
  {
   "cell_type": "code",
   "execution_count": null,
   "metadata": {},
   "outputs": [],
   "source": [
    "# Compute the average salary for each combination of batting style and league in recent years\n",
    "bats_salary = players_info[players_info.yearID > 2012]\n",
    "bats_salary = players_info.groupby([\"bats\", 'lgID'])[\"salary\"].mean().reset_index()\n",
    "\n",
    "# Plot the results\n",
    "plt.ylabel(\"Salary\")\n",
    "plt.xlabel(\"Batting Style\")\n",
    "\n",
    "sns.barplot(x='bats', y='salary', hue='lgID', data=bats_salary)"
   ]
  },
  {
   "cell_type": "markdown",
   "metadata": {},
   "source": [
    "## Money $pent on player salaries in each league"
   ]
  },
  {
   "cell_type": "code",
   "execution_count": null,
   "metadata": {},
   "outputs": [],
   "source": [
    "# Split players between the two leagues\n",
    "national_league = players_info[(players_info.lgID == \"NL\")]\n",
    "american_league = players_info[(players_info.lgID == \"AL\")]\n",
    "\n",
    "national_league_spent_money = national_league[[\"yearID\" , \"salary\"]]\n",
    "american_league_spent_money = american_league[[\"yearID\" , \"salary\"]]"
   ]
  },
  {
   "cell_type": "code",
   "execution_count": null,
   "metadata": {},
   "outputs": [],
   "source": [
    "# Compute the total salary expenditure per year in each league\n",
    "national_league_spent_money = national_league_spent_money.groupby('yearID')['salary'].sum()\n",
    "american_league_spent_money = american_league_spent_money.groupby('yearID')['salary'].sum()\n",
    "national_league_spent_money = national_league_spent_money.reset_index()\n",
    "american_league_spent_money = american_league_spent_money.reset_index()"
   ]
  },
  {
   "cell_type": "code",
   "execution_count": null,
   "metadata": {},
   "outputs": [],
   "source": [
    "# plot the results\n",
    "national_league_spent_money.columns = [\"Year\", \"NA_spent_salary\"]\n",
    "american_league_spent_money.columns = [\"Year\", \"AL_spent_salary\"]\n",
    "sns.lineplot(x=\"Year\", y=\"NA_spent_salary\", data=national_league_spent_money, color='red', label='NL')\n",
    "sns.lineplot(x=\"Year\", y=\"AL_spent_salary\", data=american_league_spent_money, color='blue', label='AL')\n",
    "plt.xlabel(\"Year\")\n",
    "plt.ylabel(\"The Amount of money spent per year\")\n",
    "plt.show()"
   ]
  },
  {
   "cell_type": "markdown",
   "metadata": {},
   "source": [
    "## Expensive foreign-born players"
   ]
  },
  {
   "cell_type": "code",
   "execution_count": null,
   "metadata": {},
   "outputs": [],
   "source": [
    "# Find players that played starting in 1990\n",
    "among_years_1990_2014 = salary_data[(salary_data.yearID >= 1990) & (salary_data.yearID < 2014)]\n",
    "among_years_1990_2014.reset_index()"
   ]
  },
  {
   "cell_type": "code",
   "execution_count": null,
   "metadata": {},
   "outputs": [],
   "source": [
    "# Of the players, single out the ones that ever received a salary over $10,000,000 and who were born outside the US\n",
    "expensive_players = players_info[players_info.salary > 10000000]\n",
    "expensive_players_not_USA = expensive_players[expensive_players[\"birthCountry\"] != \"USA\"]"
   ]
  },
  {
   "cell_type": "code",
   "execution_count": null,
   "metadata": {},
   "outputs": [],
   "source": [
    "# Divide the players by birth country\n",
    "unique_non_US_player = expensive_players_not_USA.drop_duplicates(subset=[\"playerID\", \"birthCountry\"])\n",
    "countries_count = unique_non_US_player.groupby('birthCountry')['playerID'].count().reset_index()\n",
    "countries_count.columns = ['Countries', 'Count']\n",
    "countries_count = countries_count.sort_values(ascending=False, by='Count')"
   ]
  },
  {
   "cell_type": "code",
   "execution_count": null,
   "metadata": {},
   "outputs": [],
   "source": [
    "# Plot the findings\n",
    "fig, axs = plt.subplots(1, 2, figsize=(25, 10))\n",
    "axs[0].bar(countries_count[\"Countries\"], countries_count[\"Count\"])\n",
    "axs[0].set_xlabel(\"Birth country\")\n",
    "axs[0].set_ylabel(\"Players paid a salary of over $10,000,000 at some point\")\n",
    "axs[0].tick_params(axis='x', rotation=45)\n",
    "axs[1].pie(countries_count[\"Count\"], labels=countries_count[\"Countries\"])\n",
    "plt.xlabel(\"Foreign players paid a salary of over $10,000,000 at some point\")\n",
    "plt.tight_layout()\n",
    "plt.show()"
   ]
  },
  {
   "cell_type": "markdown",
   "metadata": {},
   "source": [
    "## Expected starting salaries for foreigners"
   ]
  },
  {
   "cell_type": "code",
   "execution_count": null,
   "metadata": {},
   "outputs": [],
   "source": [
    "players_info = pd.read_csv(\"People.csv\")\n",
    "\n",
    "# Find each player's starting year and then limit the data to the first year for players that started since 1990\n",
    "starting_salary = salary_data.groupby('playerID')['yearID'].min().reset_index()\n",
    "starting_salary = starting_salary[starting_salary.yearID >= 2010]\n",
    "starting_salary.reset_index()\n",
    "starting_salary = pd.merge(salary_data, starting_salary, on=['playerID', 'yearID'])\n",
    "starting_salary.drop_duplicates('playerID')\n",
    "# display(starting_salary.sort_values(ascending=False, by='salary'))\n",
    "starting_salary = pd.merge(starting_salary, players_info, on='playerID')\n",
    "\n",
    "# Find the average salary of players from each country in their starting year\n",
    "# starting_salary = starting_salary[starting_salary['birthCountry'] != 'USA']\n",
    "starting_salary = starting_salary.groupby('birthCountry')['salary'].mean().reset_index()\n",
    "starting_salary = starting_salary.sort_values(ascending=False, by='salary')\n",
    "\n",
    "# Show the results\n",
    "display(starting_salary)\n",
    "plt.figure(figsize=(10, 5))\n",
    "\n",
    "plt.xlabel(\"Birth country\")\n",
    "plt.ylabel(\"Average starting salary\")\n",
    "sns.barplot(x='birthCountry', y='salary', data=starting_salary.head(10))"
   ]
  },
  {
   "cell_type": "code",
   "execution_count": null,
   "metadata": {},
   "outputs": [],
   "source": []
  }
 ],
 "metadata": {
  "kernelspec": {
   "display_name": "Python 3 (ipykernel)",
   "language": "python",
   "name": "python3"
  },
  "language_info": {
   "codemirror_mode": {
    "name": "ipython",
    "version": 3
   },
   "file_extension": ".py",
   "mimetype": "text/x-python",
   "name": "python",
   "nbconvert_exporter": "python",
   "pygments_lexer": "ipython3",
   "version": "3.11.0"
  }
 },
 "nbformat": 4,
 "nbformat_minor": 4
}
