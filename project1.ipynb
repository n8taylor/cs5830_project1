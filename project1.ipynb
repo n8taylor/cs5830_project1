{
 "cells": [
  {
   "cell_type": "code",
   "execution_count": null,
   "metadata": {},
   "outputs": [],
   "source": [
    "import pandas as pd\n",
    "import seaborn as sns\n",
    "import matplotlib.pyplot as plt\n",
    "import numpy as np"
   ]
  },
  {
   "cell_type": "code",
   "execution_count": null,
   "metadata": {},
   "outputs": [],
   "source": [
    "players_info = pd.read_csv(\"People.csv\")\n",
    "players_info"
   ]
  },
  {
   "cell_type": "code",
   "execution_count": null,
   "metadata": {},
   "outputs": [],
   "source": [
    "salary_data = pd.read_csv(\"Salaries.csv\")\n",
    "\n",
    "salary_data"
   ]
  },
  {
   "cell_type": "code",
   "execution_count": null,
   "metadata": {},
   "outputs": [],
   "source": [
    "players_info.columns.unique()"
   ]
  },
  {
   "cell_type": "code",
   "execution_count": null,
   "metadata": {},
   "outputs": [],
   "source": [
    "player_awards = pd.read_csv(\"AwardsPlayers.csv\")\n",
    "player_awards"
   ]
  },
  {
   "cell_type": "code",
   "execution_count": null,
   "metadata": {},
   "outputs": [],
   "source": [
    "batting = pd.read_csv(\"Batting.csv\")\n",
    "batting.columns"
   ]
  },
  {
   "cell_type": "code",
   "execution_count": null,
   "metadata": {},
   "outputs": [],
   "source": [
    "player_awards = player_awards[[\"playerID\", \"awardID\", \"yearID\", \"lgID\"]]\n",
    "players_info = players_info[[\"playerID\", \"weight\", \"height\", \"bats\", \"birthCountry\", \"nameFirst\", \"nameLast\"]]\n",
    "batting = batting[[\"playerID\", \"yearID\", \"lgID\", \"teamID\", \"H\", \"AB\"]]\n",
    "players_info = pd.merge(players_info, salary_data, on=\"playerID\")\n",
    "players_info = pd.merge(players_info, player_awards, on=[\"playerID\", \"lgID\", \"yearID\"], how=\"left\")\n",
    "players_info = pd.merge(players_info, batting, on=[\"playerID\", \"lgID\", \"teamID\", \"yearID\"])\n",
    "players_info"
   ]
  },
  {
   "cell_type": "code",
   "execution_count": null,
   "metadata": {},
   "outputs": [],
   "source": [
    "PR_players = players_info[players_info.birthCountry == \"P.R.\"]\n",
    "PR_players = PR_players.dropna(subset=\"awardID\")\n",
    "display(PR_players.head(3))\n",
    "PR_players_based_on_awards = PR_players.groupby([\"playerID\"])[\"awardID\"].count().reset_index().sort_values(by=\"awardID\", ascending=False)\n",
    "PR_players_based_on_awards.head(3)"
   ]
  },
  {
   "cell_type": "code",
   "execution_count": null,
   "metadata": {},
   "outputs": [],
   "source": [
    "player_with_highest_number_of_awards = PR_players_based_on_awards[[\"playerID\"]].iloc[0][0]\n",
    "awards_per_year = PR_players[PR_players.playerID == player_with_highest_number_of_awards]\n",
    "award_info = awards_per_year.groupby([\"yearID\"])[\"awardID\"].count().reset_index()\n",
    "salary_info = PR_players[PR_players.playerID == player_with_highest_number_of_awards].groupby([\"yearID\"])[\"salary\"].sum().reset_index()\n",
    "\n",
    "\n",
    "fig, axs = plt.subplots(2, 2, figsize=(15, 10))\n",
    "\n",
    "axs[0, 0].plot(award_info[\"yearID\"], award_info[\"awardID\"])\n",
    "axs[0, 0].set_title('Award Number')\n",
    "axs[0, 0].set_xticks(np.arange(award_info[\"yearID\"].min(), award_info[\"yearID\"].max() + 1, 1))\n",
    "axs[0, 0].set_yticks(np.arange(award_info[\"awardID\"].min(), award_info[\"awardID\"].max() + 1, 1))\n",
    "axs[0, 0].tick_params(axis='x', rotation=45)\n",
    "\n",
    "\n",
    "axs[0, 1].plot(salary_info[\"yearID\"], salary_info[\"salary\"])\n",
    "axs[0, 1].set_title('Salary')\n",
    "axs[0, 1].set_xticks(np.arange(salary_info[\"yearID\"].min(), salary_info[\"yearID\"].max() + 1, 1))\n",
    "axs[0, 1].tick_params(axis='x', rotation=45)\n",
    "\n",
    "\n",
    "axs[1, 0].bar(award_info[\"yearID\"], award_info[\"awardID\"], color='green')  \n",
    "axs[1, 0].set_title('Award Number')\n",
    "axs[1, 0].set_xticks(np.arange(award_info[\"yearID\"].min(), award_info[\"yearID\"].max() + 1, 1))\n",
    "axs[1, 0].tick_params(axis='x', rotation=45)\n",
    "\n",
    "\n",
    "axs[1, 1].bar(salary_info[\"yearID\"], salary_info[\"salary\"], color='blue') \n",
    "axs[1, 1].set_title('Salary')\n",
    "axs[1, 1].set_xticks(np.arange(salary_info[\"yearID\"].min(), salary_info[\"yearID\"].max() + 1, 1))\n",
    "axs[1, 1].tick_params(axis='x', rotation=45)\n",
    "\n",
    "plt.tight_layout()\n",
    "plt.show()"
   ]
  },
  {
   "cell_type": "code",
   "execution_count": null,
   "metadata": {},
   "outputs": [],
   "source": [
    "BMI_impact_on_run = players_info[[\"playerID\", \"teamID\", \"weight\", \"height\", \"H\", \"AB\"]]\n",
    "BMI_impact_on_run = BMI_impact_on_run.dropna(subset=\"H\")\n",
    "BMI_impact_on_run = BMI_impact_on_run.dropna(subset=\"AB\")\n",
    "BMI_impact_on_run = BMI_impact_on_run.dropna(subset=\"height\")\n",
    "BMI_impact_on_run = BMI_impact_on_run.dropna(subset=\"playerID\")\n",
    "BMI_impact_on_run = BMI_impact_on_run.dropna(subset=\"weight\")\n",
    "BMI_impact_on_run = BMI_impact_on_run.groupby([\"playerID\", \"weight\", \"height\"]).agg({\"H\": \"sum\", \"AB\": \"sum\"}).reset_index()\n",
    "BMI_impact_on_run['BMI'] = (BMI_impact_on_run.weight * 703) / (BMI_impact_on_run.height)**2\n",
    "BMI_impact_on_run['battingAvg'] = (BMI_impact_on_run.H / BMI_impact_on_run.AB)\n",
    "BMI_impact_on_run = BMI_impact_on_run.dropna(subset=\"battingAvg\")\n",
    "display((BMI_impact_on_run))\n",
    "sns.scatterplot(x=\"BMI\", y=\"battingAvg\", data=BMI_impact_on_run, size=8)\n",
    "plt.ylabel(\"Batting average\")\n",
    "plt.show()"
   ]
  },
  {
   "cell_type": "code",
   "execution_count": null,
   "metadata": {},
   "outputs": [],
   "source": [
    "salary_data.lgID.unique()"
   ]
  },
  {
   "cell_type": "code",
   "execution_count": null,
   "metadata": {},
   "outputs": [],
   "source": [
    "national_league = players_info[(players_info.lgID == \"NL\") & (players_info.yearID > 2012)]\n",
    "american_league = players_info[(players_info.lgID == \"AL\") & (players_info.yearID > 2012)]"
   ]
  },
  {
   "cell_type": "code",
   "execution_count": null,
   "metadata": {},
   "outputs": [],
   "source": [
    "NL_bats_salary = national_league.groupby(\"bats\")[\"salary\"].mean()\n",
    "AL_bats_salary = american_league.groupby(\"bats\")[\"salary\"].mean()\n",
    "display(NL_bats_salary)\n",
    "display(AL_bats_salary)\n",
    "categories = [\"B\", \"L\", \"R\"]\n",
    "NL_bats_salary = [NL_bats_salary[0], NL_bats_salary[1], NL_bats_salary[2]]\n",
    "AL_bats_salary = [AL_bats_salary[0], AL_bats_salary[1], AL_bats_salary[2]]\n",
    "\n",
    "\n",
    "data = {\n",
    "    'Bats': ['National League'] * 3 + ['American League'] * 3,\n",
    "    'Batting_Style': ['B', 'L', 'R'] * 2,\n",
    "    'Salary': NL_bats_salary + AL_bats_salary\n",
    "}\n",
    "\n",
    "# Create the bar plot using Seaborn\n",
    "sns.barplot(x='Bats', y='Salary', hue='Batting_Style', data=data)\n",
    "\n",
    "# Customize the plot\n",
    "plt.xlabel('League')\n",
    "plt.ylabel('Salary')\n",
    "plt.title('Comparison of Average Salaries by Batting Style and League')\n",
    "plt.legend(title='Batting Style', bbox_to_anchor=(1, 1), loc='upper left')\n",
    "# Show the plot\n",
    "plt.show()\n"
   ]
  },
  {
   "cell_type": "code",
   "execution_count": null,
   "metadata": {},
   "outputs": [],
   "source": [
    "national_league = players_info[(players_info.lgID == \"NL\")]\n",
    "american_league = players_info[(players_info.lgID == \"AL\")]"
   ]
  },
  {
   "cell_type": "code",
   "execution_count": null,
   "metadata": {},
   "outputs": [],
   "source": [
    "national_league_spent_money = national_league[[\"yearID\" , \"salary\"]]\n",
    "american_league_spent_money = american_league[[\"yearID\" , \"salary\"]]\n"
   ]
  },
  {
   "cell_type": "code",
   "execution_count": null,
   "metadata": {},
   "outputs": [],
   "source": [
    "national_league_spent_money"
   ]
  },
  {
   "cell_type": "code",
   "execution_count": null,
   "metadata": {},
   "outputs": [],
   "source": [
    "american_league_spent_money"
   ]
  },
  {
   "cell_type": "code",
   "execution_count": null,
   "metadata": {},
   "outputs": [],
   "source": [
    "national_league_spent_money = national_league_spent_money.groupby('yearID')['salary'].sum()\n",
    "american_league_spent_money = american_league_spent_money.groupby('yearID')['salary'].sum()\n",
    "\n",
    "national_league_spent_money = national_league_spent_money.reset_index()\n",
    "american_league_spent_money = american_league_spent_money.reset_index()"
   ]
  },
  {
   "cell_type": "code",
   "execution_count": null,
   "metadata": {},
   "outputs": [],
   "source": [
    "national_league_spent_money.columns = [\"Year\", \"NA_spent_salary\"]\n",
    "american_league_spent_money.columns = [\"Year\", \"AL_spent_salary\"]\n",
    "sns.lineplot(x=\"Year\", y=\"NA_spent_salary\", data=national_league_spent_money, color='red', label='NL')\n",
    "sns.lineplot(x=\"Year\", y=\"AL_spent_salary\", data=american_league_spent_money, color='blue', label='AL')\n",
    "plt.xlabel(\"Year\")\n",
    "plt.ylabel(\"The Amount of money spent per year\")\n",
    "plt.show()"
   ]
  },
  {
   "cell_type": "code",
   "execution_count": null,
   "metadata": {},
   "outputs": [],
   "source": [
    "among_years_1990_2014 = salary_data[(salary_data.yearID >= 1990) & (salary_data.yearID < 2014)]\n",
    "among_years_1990_2014.reset_index()\n",
    "among_years_1990_2014"
   ]
  },
  {
   "cell_type": "code",
   "execution_count": null,
   "metadata": {},
   "outputs": [],
   "source": [
    "expensive_players = players_info[players_info.salary > 1000000]\n",
    "\n",
    "expensive_players_not_USA = expensive_players[expensive_players[\"birthCountry\"] != \"USA\"]\n",
    "\n",
    "expensive_players_not_USA"
   ]
  },
  {
   "cell_type": "code",
   "execution_count": null,
   "metadata": {},
   "outputs": [],
   "source": [
    "unique_non_US_player = expensive_players_not_USA.drop_duplicates(subset=[\"playerID\", \"birthCountry\"])\n",
    "countries_count = unique_non_US_player[\"birthCountry\"].value_counts()\n",
    "countries_count = countries_count.reset_index()\n",
    "countries_count.columns = ['Countries', 'Count']\n",
    "countries_count"
   ]
  },
  {
   "cell_type": "code",
   "execution_count": null,
   "metadata": {},
   "outputs": [],
   "source": [
    "fig, axs = plt.subplots(1, 2, figsize=(25, 10))\n",
    "axs[0].bar(countries_count[\"Countries\"], countries_count[\"Count\"])\n",
    "axs[0].tick_params(axis='x', rotation=45)\n",
    "axs[1].pie(countries_count[\"Count\"], labels=countries_count[\"Countries\"])\n",
    "plt.tight_layout()\n",
    "plt.show()"
   ]
  }
 ],
 "metadata": {
  "kernelspec": {
   "display_name": "Python 3 (ipykernel)",
   "language": "python",
   "name": "python3"
  },
  "language_info": {
   "codemirror_mode": {
    "name": "ipython",
    "version": 3
   },
   "file_extension": ".py",
   "mimetype": "text/x-python",
   "name": "python",
   "nbconvert_exporter": "python",
   "pygments_lexer": "ipython3",
   "version": "3.11.0"
  }
 },
 "nbformat": 4,
 "nbformat_minor": 4
}
